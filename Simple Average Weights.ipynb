{
 "cells": [
  {
   "cell_type": "code",
   "execution_count": 1,
   "id": "bee8b2bc",
   "metadata": {},
   "outputs": [],
   "source": [
    "import torch\n",
    "device = torch.device('cuda:0' if torch.cuda.is_available() else 'cpu')"
   ]
  },
  {
   "cell_type": "code",
   "execution_count": 2,
   "id": "e914ddef",
   "metadata": {},
   "outputs": [],
   "source": [
    "def add_networks(dst_net, src_net):\n",
    "    params1 = src_net.named_parameters()\n",
    "    params2 = dst_net.named_parameters()\n",
    "    dict_params2 = dst_net.state_dict()\n",
    "    for name1, param1 in params1:\n",
    "        if name1 in dict_params2:\n",
    "            dict_params2[name1].data.copy_(param1.data + dict_params2[name1].data)\n",
    "    dst_net.load_state_dict(dict_params2)\n",
    "    return dst_net\n",
    "\n",
    "def apply_denominator(dst_net, denominator):\n",
    "    denominator_inv = 1.0 / denominator\n",
    "    params = dst_net.named_parameters()\n",
    "    dict_params = dst_net.state_dict()\n",
    "    for name, param in params:\n",
    "        dict_params[name].data.copy_(dict_params[name].data / denominator)\n",
    "    dst_net.load_state_dict(dict_params)\n",
    "    return dst_net"
   ]
  },
  {
   "cell_type": "code",
   "execution_count": 3,
   "id": "b42fb68f",
   "metadata": {},
   "outputs": [],
   "source": [
    "aug_model_path = 'checkpoints/'\n",
    "aug_models = [\"_media\",\"_sampo\",\"_nothing2\",\"s1\",\"s2\",\"s3\"]\n",
    "num_models = len(aug_models)"
   ]
  },
  {
   "cell_type": "code",
   "execution_count": 4,
   "id": "95b33062",
   "metadata": {},
   "outputs": [],
   "source": [
    "text_to_images = []\n",
    "image_to_texts = []\n",
    "for am in aug_models:\n",
    "    text_to_image = torch.load(aug_model_path + \"t2i\" + am + \".pt\")\n",
    "    text_to_image.requires_grad_(False).eval().to(device)\n",
    "    image_to_text = torch.load(aug_model_path + \"i2t\" + am + \".pt\")\n",
    "    image_to_text.requires_grad_(False).eval().to(device)\n",
    "    text_to_images.append(text_to_image)\n",
    "    image_to_texts.append(image_to_text)"
   ]
  },
  {
   "cell_type": "code",
   "execution_count": 5,
   "id": "cba8b57f",
   "metadata": {},
   "outputs": [],
   "source": [
    "avg_t2i = None\n",
    "avg_i2t = None\n",
    "for i in range(0, num_models):\n",
    "        if avg_t2i == None:\n",
    "            avg_t2i = text_to_images[i]\n",
    "        else:\n",
    "            avg_t2i = add_networks(avg_t2i, text_to_images[i])\n",
    "        \n",
    "        if avg_i2t == None:\n",
    "            avg_i2t = image_to_texts[i]\n",
    "        else:\n",
    "            avg_i2t = add_networks(avg_i2t, image_to_texts[i])\n",
    "apply_denominator(avg_t2i, num_models)\n",
    "apply_denominator(avg_i2t, num_models)\n",
    "torch.save(avg_t2i, 't2i_avg1.pt')\n",
    "torch.save(avg_i2t, 'i2t_avg1.pt')"
   ]
  }
 ],
 "metadata": {
  "kernelspec": {
   "display_name": "Python 3 (ipykernel)",
   "language": "python",
   "name": "python3"
  },
  "language_info": {
   "codemirror_mode": {
    "name": "ipython",
    "version": 3
   },
   "file_extension": ".py",
   "mimetype": "text/x-python",
   "name": "python",
   "nbconvert_exporter": "python",
   "pygments_lexer": "ipython3",
   "version": "3.8.8"
  }
 },
 "nbformat": 4,
 "nbformat_minor": 5
}
